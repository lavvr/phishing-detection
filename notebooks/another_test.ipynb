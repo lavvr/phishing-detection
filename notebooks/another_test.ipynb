{
 "cells": [
  {
   "cell_type": "code",
   "execution_count": 75,
   "metadata": {},
   "outputs": [
    {
     "data": {
      "text/plain": [
       "array([0., 0., 0., 0., 0., 0., 0., 0., 0., 0., 0., 0., 0., 0., 0., 0., 0.,\n",
       "       0., 0., 0., 0., 0., 0., 0., 0., 0., 0., 0., 0., 0., 0., 0., 0., 0.,\n",
       "       0., 0., 0., 0., 0., 0., 0., 0., 0., 0., 0., 0., 0., 0., 0., 0.])"
      ]
     },
     "execution_count": 75,
     "metadata": {},
     "output_type": "execute_result"
    }
   ],
   "source": [
    "from sklearn.datasets import make_regression\n",
    "import numpy as np\n",
    "import pandas as pd\n",
    "import matplotlib.pyplot as plt\n",
    "X, y, coef = make_regression(n_samples=100, n_features=50,n_informative=30, coef=True)\n",
    "df = pd.DataFrame(X,y)\n",
    "np.linalg.det(np.dot(np.transpose(X),X))\n",
    "omega = np.zeros(X.shape[1])\n",
    "omega"
   ]
  },
  {
   "cell_type": "code",
   "execution_count": 97,
   "metadata": {},
   "outputs": [],
   "source": [
    "beta = 0.7\n",
    "prev_omega = 0\n",
    "def subgradient_method(eps, X, y):\n",
    "    omega = np.zeros(X.shape[1])\n",
    "    k = 0\n",
    "    for i in range(100):\n",
    "        residuals = X @ omega - y\n",
    "        grad = np.sign(residuals) @ X / len(y)\n",
    "\n",
    "        alpha =1/(k+1)\n",
    "        omega -= alpha*grad\n",
    "        k += 1\n",
    "\n",
    "        omega = np.sign(omega)*np.max(np.abs(omega) - alpha*beta, 0)\n",
    " \n",
    "\n",
    "      \n",
    "      \n",
    "\n",
    "    return omega\n"
   ]
  },
  {
   "cell_type": "code",
   "execution_count": 100,
   "metadata": {},
   "outputs": [
    {
     "name": "stdout",
     "output_type": "stream",
     "text": [
      "Коэффициенты с L1 (proximal): [ 7.47629858e-02  2.62641043e+00  1.15592647e+01  2.67427809e+01\n",
      "  0.00000000e+00  6.95925134e+00  0.00000000e+00  1.13902072e+01\n",
      " -0.00000000e+00 -2.78688706e+00  0.00000000e+00  1.52222223e+01\n",
      " -1.11793765e+01  1.00821570e+01 -4.05142841e+00  1.11078538e+01\n",
      "  2.68022658e+01  0.00000000e+00  0.00000000e+00 -0.00000000e+00\n",
      " -4.87156668e+00 -0.00000000e+00 -0.00000000e+00  7.88495751e+00\n",
      "  0.00000000e+00  7.07308103e+00  3.29158783e-01  0.00000000e+00\n",
      "  1.02875323e+01  1.31588161e+01  5.71593340e+00 -0.00000000e+00\n",
      "  2.01566794e-01 -0.00000000e+00  1.04995003e+01 -0.00000000e+00\n",
      "  5.78767132e+00  0.00000000e+00  1.66821356e-01  1.08184383e-03\n",
      " -0.00000000e+00  0.00000000e+00  1.28642939e+01  0.00000000e+00\n",
      "  5.70309134e+00  0.00000000e+00  0.00000000e+00 -0.00000000e+00\n",
      "  0.00000000e+00 -0.00000000e+00]\n",
      "[13.18893645  0.         85.29187411 70.64676638 42.10023585 44.75576112\n",
      " 17.71436878 64.25525792  0.          0.          0.         70.87470031\n",
      "  0.         57.42911186  0.         68.87018187 94.38708094  0.\n",
      " 54.21535948  0.          0.          0.          0.         70.43528546\n",
      " 65.42766135 55.77019688  4.16058389  0.         66.62375044 96.07573697\n",
      "  0.          0.          0.         31.07091694 89.34305586  0.\n",
      " 20.49422212 16.09569628 92.55813276 39.51655122  0.         15.58004881\n",
      " 57.79511894 53.56368665 40.11807193 67.64327747 70.62692261  0.\n",
      "  0.          0.        ]\n"
     ]
    }
   ],
   "source": [
    "# Параметры\n",
    "alpha = 0.01    # Скорость обучения\n",
    "n_iter = 10000  # Число итераций\n",
    "l1_lambda = 0.1 # Сила L1-регуляризации\n",
    "\n",
    "# Инициализация коэффициентов\n",
    "beta = np.zeros(X.shape[1])\n",
    "\n",
    "for _ in range(n_iter):\n",
    "    # Шаг 1: Градиент MAE\n",
    "    residuals = X @ beta - y\n",
    "    gradient_mae = np.sign(residuals) @ X / len(y)\n",
    "    beta -= alpha * gradient_mae  # Предварительное обновление\n",
    "    \n",
    "    # Шаг 2: Проксимальная операция (soft-thresholding)\n",
    "    beta = np.sign(beta) * np.maximum(np.abs(beta) - alpha * l1_lambda, 0)\n",
    "\n",
    "print(\"Коэффициенты с L1 (proximal):\", beta)\n",
    "\n",
    "print(coef)"
   ]
  }
 ],
 "metadata": {
  "kernelspec": {
   "display_name": "phishing-detection",
   "language": "python",
   "name": "python3"
  },
  "language_info": {
   "codemirror_mode": {
    "name": "ipython",
    "version": 3
   },
   "file_extension": ".py",
   "mimetype": "text/x-python",
   "name": "python",
   "nbconvert_exporter": "python",
   "pygments_lexer": "ipython3",
   "version": "3.12.9"
  }
 },
 "nbformat": 4,
 "nbformat_minor": 2
}
